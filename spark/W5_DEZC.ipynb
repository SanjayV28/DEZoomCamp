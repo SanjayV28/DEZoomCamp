{
  "cells": [
    {
      "cell_type": "code",
      "execution_count": null,
      "metadata": {
        "colab": {
          "base_uri": "https://localhost:8080/"
        },
        "id": "ghTC0xxPijIn",
        "outputId": "3fd0fee8-8168-403b-edd9-f51bae5b9dbd"
      },
      "outputs": [
        {
          "name": "stdout",
          "output_type": "stream",
          "text": [
            "Collecting pyspark\n",
            "  Downloading pyspark-3.2.1.tar.gz (281.4 MB)\n",
            "\u001b[K     |████████████████████████████████| 281.4 MB 33 kB/s \n",
            "\u001b[?25hCollecting py4j==0.10.9.3\n",
            "  Downloading py4j-0.10.9.3-py2.py3-none-any.whl (198 kB)\n",
            "\u001b[K     |████████████████████████████████| 198 kB 63.6 MB/s \n",
            "\u001b[?25hBuilding wheels for collected packages: pyspark\n",
            "  Building wheel for pyspark (setup.py) ... \u001b[?25l\u001b[?25hdone\n",
            "  Created wheel for pyspark: filename=pyspark-3.2.1-py2.py3-none-any.whl size=281853642 sha256=27558e6159eb66dbdbaba2954237999f56758d3fb270bbc5e034f263db4b963f\n",
            "  Stored in directory: /root/.cache/pip/wheels/9f/f5/07/7cd8017084dce4e93e84e92efd1e1d5334db05f2e83bcef74f\n",
            "Successfully built pyspark\n",
            "Installing collected packages: py4j, pyspark\n",
            "Successfully installed py4j-0.10.9.3 pyspark-3.2.1\n"
          ]
        }
      ],
      "source": [
        "!pip install pyspark \n",
        "!pip install -q findspark"
      ]
    },
    {
      "cell_type": "code",
      "execution_count": 58,
      "metadata": {
        "id": "K8suToqYikMu"
      },
      "outputs": [],
      "source": [
        "import pyspark\n",
        "import findspark\n",
        "from pyspark import SparkContext, SparkConf\n",
        "from pyspark.sql import SparkSession, functions as f\n",
        "from pyspark.sql.types import StructType,StructField,StringType,IntegerType,TimestampType,DoubleType"
      ]
    },
    {
      "cell_type": "code",
      "execution_count": null,
      "metadata": {
        "colab": {
          "base_uri": "https://localhost:8080/",
          "height": 35
        },
        "id": "8FdDOq24i1gl",
        "outputId": "8c297e01-310e-4916-bb47-29d317b105c5"
      },
      "outputs": [
        {
          "data": {
            "application/vnd.google.colaboratory.intrinsic+json": {
              "type": "string"
            },
            "text/plain": [
              "'3.2.1'"
            ]
          },
          "execution_count": 3,
          "metadata": {},
          "output_type": "execute_result"
        }
      ],
      "source": [
        "pyspark.__version__"
      ]
    },
    {
      "cell_type": "code",
      "source": [
        "findspark.find()"
      ],
      "metadata": {
        "colab": {
          "base_uri": "https://localhost:8080/",
          "height": 35
        },
        "id": "GSWhglk2y0YC",
        "outputId": "68a509d1-e124-46da-b1f1-befbbe26b19b"
      },
      "execution_count": 59,
      "outputs": [
        {
          "output_type": "execute_result",
          "data": {
            "application/vnd.google.colaboratory.intrinsic+json": {
              "type": "string"
            },
            "text/plain": [
              "'/usr/local/lib/python3.7/dist-packages/pyspark'"
            ]
          },
          "metadata": {},
          "execution_count": 59
        }
      ]
    },
    {
      "cell_type": "code",
      "execution_count": null,
      "metadata": {
        "id": "sqd65QnGi4nM"
      },
      "outputs": [],
      "source": [
        "spark = SparkSession.builder\\\n",
        "        .master(\"local\")\\\n",
        "        .appName(\"Colab\")\\\n",
        "        .config('spark.ui.port', '4050')\\\n",
        "        .getOrCreate()"
      ]
    },
    {
      "cell_type": "code",
      "execution_count": null,
      "metadata": {
        "colab": {
          "base_uri": "https://localhost:8080/",
          "height": 219
        },
        "id": "HXQ2OHZ3i9Cl",
        "outputId": "75fc44f5-be5d-41fc-d6f6-c9b6f9f793e1"
      },
      "outputs": [
        {
          "data": {
            "text/html": [
              "\n",
              "            <div>\n",
              "                <p><b>SparkSession - in-memory</b></p>\n",
              "                \n",
              "        <div>\n",
              "            <p><b>SparkContext</b></p>\n",
              "\n",
              "            <p><a href=\"http://a1c05c809fde:4050\">Spark UI</a></p>\n",
              "\n",
              "            <dl>\n",
              "              <dt>Version</dt>\n",
              "                <dd><code>v3.2.1</code></dd>\n",
              "              <dt>Master</dt>\n",
              "                <dd><code>local</code></dd>\n",
              "              <dt>AppName</dt>\n",
              "                <dd><code>Colab</code></dd>\n",
              "            </dl>\n",
              "        </div>\n",
              "        \n",
              "            </div>\n",
              "        "
            ],
            "text/plain": [
              "<pyspark.sql.session.SparkSession at 0x7fe694806b50>"
            ]
          },
          "execution_count": 5,
          "metadata": {},
          "output_type": "execute_result"
        }
      ],
      "source": [
        "spark"
      ]
    },
    {
      "cell_type": "code",
      "execution_count": null,
      "metadata": {
        "colab": {
          "base_uri": "https://localhost:8080/"
        },
        "id": "GwmJmj7UjCC1",
        "outputId": "906d1f8c-37c7-4c82-db15-9386e49c7313"
      },
      "outputs": [
        {
          "name": "stdout",
          "output_type": "stream",
          "text": [
            "--2022-02-28 16:31:45--  https://bin.equinox.io/c/4VmDzA7iaHb/ngrok-stable-linux-amd64.zip\n",
            "Resolving bin.equinox.io (bin.equinox.io)... 52.202.168.65, 54.237.133.81, 18.205.222.128, ...\n",
            "Connecting to bin.equinox.io (bin.equinox.io)|52.202.168.65|:443... connected.\n",
            "HTTP request sent, awaiting response... 200 OK\n",
            "Length: 13832437 (13M) [application/octet-stream]\n",
            "Saving to: ‘ngrok-stable-linux-amd64.zip’\n",
            "\n",
            "ngrok-stable-linux- 100%[===================>]  13.19M  5.95MB/s    in 2.2s    \n",
            "\n",
            "2022-02-28 16:31:48 (5.95 MB/s) - ‘ngrok-stable-linux-amd64.zip’ saved [13832437/13832437]\n",
            "\n",
            "Archive:  ngrok-stable-linux-amd64.zip\n",
            "  inflating: ngrok                   \n"
          ]
        }
      ],
      "source": [
        "!wget https://bin.equinox.io/c/4VmDzA7iaHb/ngrok-stable-linux-amd64.zip\n",
        "!unzip ngrok-stable-linux-amd64.zip\n",
        "get_ipython().system_raw('!./ngrok http 4050 &')"
      ]
    },
    {
      "cell_type": "code",
      "execution_count": null,
      "metadata": {
        "id": "RfW8fphNjJjO"
      },
      "outputs": [],
      "source": [
        "!sleep 10\n",
        "!curl -s http://localhost:4040/api/tunnels"
      ]
    },
    {
      "cell_type": "code",
      "execution_count": null,
      "metadata": {
        "colab": {
          "base_uri": "https://localhost:8080/"
        },
        "id": "6FQM5utWkDOy",
        "outputId": "35fe6cc6-8e06-4e8d-93d4-8a37ac6eea9a"
      },
      "outputs": [
        {
          "name": "stdout",
          "output_type": "stream",
          "text": [
            "--2022-02-28 16:31:59--  https://nyc-tlc.s3.amazonaws.com/trip+data/fhvhv_tripdata_2021-01.csv\n",
            "Resolving nyc-tlc.s3.amazonaws.com (nyc-tlc.s3.amazonaws.com)... 52.217.204.241\n",
            "Connecting to nyc-tlc.s3.amazonaws.com (nyc-tlc.s3.amazonaws.com)|52.217.204.241|:443... connected.\n",
            "HTTP request sent, awaiting response... 200 OK\n",
            "Length: 752335705 (717M) [text/csv]\n",
            "Saving to: ‘fhvhv_tripdata_2021-01.csv’\n",
            "\n",
            "fhvhv_tripdata_2021 100%[===================>] 717.48M  56.0MB/s    in 12s     \n",
            "\n",
            "2022-02-28 16:32:11 (61.8 MB/s) - ‘fhvhv_tripdata_2021-01.csv’ saved [752335705/752335705]\n",
            "\n"
          ]
        }
      ],
      "source": [
        "!wget https://nyc-tlc.s3.amazonaws.com/trip+data/fhvhv_tripdata_2021-01.csv"
      ]
    },
    {
      "cell_type": "code",
      "execution_count": null,
      "metadata": {
        "id": "-0HaNxIzjiKN"
      },
      "outputs": [],
      "source": [
        "schema = StructType([\n",
        "    StructField(\"hvfhs_license_num\",StringType(),True),\n",
        "    StructField(\"dispatching_base_num\",StringType(),True),\n",
        "    StructField(\"pickup_datetime\",TimestampType(),True),\n",
        "    StructField(\"dropoff_datetime\",TimestampType(),True),\n",
        "    StructField(\"PULocationID\",IntegerType(),True),\n",
        "    StructField(\"DOLocationID\",IntegerType(),True),\n",
        "    StructField(\"SR_Flag\",StringType(),True)\n",
        "])\n",
        "\n",
        "df = spark.read.options(header=True).schema(schema).csv(\"fhvhv_tripdata_2021-01.csv\")"
      ]
    },
    {
      "cell_type": "code",
      "execution_count": null,
      "metadata": {
        "colab": {
          "base_uri": "https://localhost:8080/"
        },
        "id": "UDDXBi-Uj7xC",
        "outputId": "6a65742e-caac-418e-cd82-66979f257eea"
      },
      "outputs": [
        {
          "name": "stdout",
          "output_type": "stream",
          "text": [
            "root\n",
            " |-- hvfhs_license_num: string (nullable = true)\n",
            " |-- dispatching_base_num: string (nullable = true)\n",
            " |-- pickup_datetime: timestamp (nullable = true)\n",
            " |-- dropoff_datetime: timestamp (nullable = true)\n",
            " |-- PULocationID: integer (nullable = true)\n",
            " |-- DOLocationID: integer (nullable = true)\n",
            " |-- SR_Flag: string (nullable = true)\n",
            "\n",
            "+-----------------+--------------------+-------------------+-------------------+------------+------------+-------+\n",
            "|hvfhs_license_num|dispatching_base_num|    pickup_datetime|   dropoff_datetime|PULocationID|DOLocationID|SR_Flag|\n",
            "+-----------------+--------------------+-------------------+-------------------+------------+------------+-------+\n",
            "|           HV0003|              B02682|2021-01-01 00:33:44|2021-01-01 00:49:07|         230|         166|   null|\n",
            "|           HV0003|              B02682|2021-01-01 00:55:19|2021-01-01 01:18:21|         152|         167|   null|\n",
            "|           HV0003|              B02764|2021-01-01 00:23:56|2021-01-01 00:38:05|         233|         142|   null|\n",
            "|           HV0003|              B02764|2021-01-01 00:42:51|2021-01-01 00:45:50|         142|         143|   null|\n",
            "|           HV0003|              B02764|2021-01-01 00:48:14|2021-01-01 01:08:42|         143|          78|   null|\n",
            "+-----------------+--------------------+-------------------+-------------------+------------+------------+-------+\n",
            "only showing top 5 rows\n",
            "\n"
          ]
        }
      ],
      "source": [
        "df.printSchema()\n",
        "df.show(5)"
      ]
    },
    {
      "cell_type": "code",
      "execution_count": null,
      "metadata": {
        "colab": {
          "base_uri": "https://localhost:8080/"
        },
        "id": "ebN4lLQrkLQ6",
        "outputId": "6089464e-a1f2-4e54-c462-932346ba6d9d"
      },
      "outputs": [
        {
          "name": "stdout",
          "output_type": "stream",
          "text": [
            "--2022-02-28 16:32:17--  https://nyc-tlc.s3.amazonaws.com/trip+data/fhvhv_tripdata_2021-02.csv\n",
            "Resolving nyc-tlc.s3.amazonaws.com (nyc-tlc.s3.amazonaws.com)... 52.217.235.225\n",
            "Connecting to nyc-tlc.s3.amazonaws.com (nyc-tlc.s3.amazonaws.com)|52.217.235.225|:443... connected.\n",
            "HTTP request sent, awaiting response... 200 OK\n",
            "Length: 733822658 (700M) [text/csv]\n",
            "Saving to: ‘fhvhv_tripdata_2021-02.csv’\n",
            "\n",
            "fhvhv_tripdata_2021 100%[===================>] 699.83M  58.7MB/s    in 10s     \n",
            "\n",
            "2022-02-28 16:32:28 (66.9 MB/s) - ‘fhvhv_tripdata_2021-02.csv’ saved [733822658/733822658]\n",
            "\n"
          ]
        }
      ],
      "source": [
        "!wget https://nyc-tlc.s3.amazonaws.com/trip+data/fhvhv_tripdata_2021-02.csv"
      ]
    },
    {
      "cell_type": "code",
      "execution_count": null,
      "metadata": {
        "id": "7jTUfMZykPoj"
      },
      "outputs": [],
      "source": [
        "schema = StructType([\n",
        "    StructField(\"hvfhs_license_num\",StringType(),True),\n",
        "    StructField(\"dispatching_base_num\",StringType(),True),\n",
        "    StructField(\"pickup_datetime\",TimestampType(),True),\n",
        "    StructField(\"dropoff_datetime\",TimestampType(),True),\n",
        "    StructField(\"PULocationID\",IntegerType(),True),\n",
        "    StructField(\"DOLocationID\",IntegerType(),True),\n",
        "    StructField(\"SR_Flag\",StringType(),True)\n",
        "])\n",
        "\n",
        "dffeb = spark.read.options(header=True).schema(schema).csv(\"fhvhv_tripdata_2021-02.csv\")"
      ]
    },
    {
      "cell_type": "code",
      "execution_count": null,
      "metadata": {
        "colab": {
          "background_save": true,
          "base_uri": "https://localhost:8080/"
        },
        "id": "4QLALLpHkVIg",
        "outputId": "7e94c948-7593-4b94-b9fd-30ea9aa99568"
      },
      "outputs": [
        {
          "name": "stdout",
          "output_type": "stream",
          "text": [
            "root\n",
            " |-- hvfhs_license_num: string (nullable = true)\n",
            " |-- dispatching_base_num: string (nullable = true)\n",
            " |-- pickup_datetime: timestamp (nullable = true)\n",
            " |-- dropoff_datetime: timestamp (nullable = true)\n",
            " |-- PULocationID: integer (nullable = true)\n",
            " |-- DOLocationID: integer (nullable = true)\n",
            " |-- SR_Flag: string (nullable = true)\n",
            "\n",
            "+-----------------+--------------------+-------------------+-------------------+------------+------------+-------+\n",
            "|hvfhs_license_num|dispatching_base_num|    pickup_datetime|   dropoff_datetime|PULocationID|DOLocationID|SR_Flag|\n",
            "+-----------------+--------------------+-------------------+-------------------+------------+------------+-------+\n",
            "|           HV0003|              B02765|2021-02-05 15:13:57|2021-02-05 15:30:25|          71|          89|   null|\n",
            "|           HV0003|              B02866|2021-02-04 11:40:47|2021-02-04 11:46:35|          20|         174|   null|\n",
            "|           HV0003|              B02872|2021-02-02 13:21:54|2021-02-02 13:36:47|          78|         247|   null|\n",
            "|           HV0003|              B02872|2021-02-03 22:05:16|2021-02-03 22:14:52|          75|         262|   null|\n",
            "|           HV0003|              B02888|2021-02-02 16:41:27|2021-02-02 17:06:27|         138|          88|   null|\n",
            "+-----------------+--------------------+-------------------+-------------------+------------+------------+-------+\n",
            "only showing top 5 rows\n",
            "\n"
          ]
        }
      ],
      "source": [
        "dffeb.printSchema()\n",
        "dffeb.show(5)"
      ]
    },
    {
      "cell_type": "code",
      "execution_count": null,
      "metadata": {
        "id": "aAyoKetdkZN3"
      },
      "outputs": [],
      "source": [
        "dffeb = dffeb.repartition(24)"
      ]
    },
    {
      "cell_type": "code",
      "execution_count": null,
      "metadata": {
        "id": "Pa5QioCjkcMg"
      },
      "outputs": [],
      "source": [
        "dffeb.write.parquet(\"fhvhv/2021-02/\")"
      ]
    },
    {
      "cell_type": "code",
      "execution_count": null,
      "metadata": {
        "colab": {
          "base_uri": "https://localhost:8080/"
        },
        "id": "1T6hzlX3khKQ",
        "outputId": "9b2ba891-6e1f-4b21-abb1-7ec51c96e11c"
      },
      "outputs": [
        {
          "name": "stdout",
          "output_type": "stream",
          "text": [
            "total 209M\n",
            "-rw-r--r-- 1 root root 8.7M Feb 28 16:39 part-00000-cd344d94-c5d4-493d-b553-0d14f8b417d6-c000.snappy.parquet\n",
            "-rw-r--r-- 1 root root 8.7M Feb 28 16:39 part-00001-cd344d94-c5d4-493d-b553-0d14f8b417d6-c000.snappy.parquet\n",
            "-rw-r--r-- 1 root root 8.7M Feb 28 16:39 part-00002-cd344d94-c5d4-493d-b553-0d14f8b417d6-c000.snappy.parquet\n",
            "-rw-r--r-- 1 root root 8.7M Feb 28 16:39 part-00003-cd344d94-c5d4-493d-b553-0d14f8b417d6-c000.snappy.parquet\n",
            "-rw-r--r-- 1 root root 8.7M Feb 28 16:39 part-00004-cd344d94-c5d4-493d-b553-0d14f8b417d6-c000.snappy.parquet\n",
            "-rw-r--r-- 1 root root 8.7M Feb 28 16:39 part-00005-cd344d94-c5d4-493d-b553-0d14f8b417d6-c000.snappy.parquet\n",
            "-rw-r--r-- 1 root root 8.7M Feb 28 16:39 part-00006-cd344d94-c5d4-493d-b553-0d14f8b417d6-c000.snappy.parquet\n",
            "-rw-r--r-- 1 root root 8.7M Feb 28 16:39 part-00007-cd344d94-c5d4-493d-b553-0d14f8b417d6-c000.snappy.parquet\n",
            "-rw-r--r-- 1 root root 8.7M Feb 28 16:39 part-00008-cd344d94-c5d4-493d-b553-0d14f8b417d6-c000.snappy.parquet\n",
            "-rw-r--r-- 1 root root 8.7M Feb 28 16:39 part-00009-cd344d94-c5d4-493d-b553-0d14f8b417d6-c000.snappy.parquet\n",
            "-rw-r--r-- 1 root root 8.7M Feb 28 16:39 part-00010-cd344d94-c5d4-493d-b553-0d14f8b417d6-c000.snappy.parquet\n",
            "-rw-r--r-- 1 root root 8.7M Feb 28 16:39 part-00011-cd344d94-c5d4-493d-b553-0d14f8b417d6-c000.snappy.parquet\n",
            "-rw-r--r-- 1 root root 8.7M Feb 28 16:39 part-00012-cd344d94-c5d4-493d-b553-0d14f8b417d6-c000.snappy.parquet\n",
            "-rw-r--r-- 1 root root 8.7M Feb 28 16:39 part-00013-cd344d94-c5d4-493d-b553-0d14f8b417d6-c000.snappy.parquet\n",
            "-rw-r--r-- 1 root root 8.7M Feb 28 16:39 part-00014-cd344d94-c5d4-493d-b553-0d14f8b417d6-c000.snappy.parquet\n",
            "-rw-r--r-- 1 root root 8.7M Feb 28 16:39 part-00015-cd344d94-c5d4-493d-b553-0d14f8b417d6-c000.snappy.parquet\n",
            "-rw-r--r-- 1 root root 8.7M Feb 28 16:39 part-00016-cd344d94-c5d4-493d-b553-0d14f8b417d6-c000.snappy.parquet\n",
            "-rw-r--r-- 1 root root 8.7M Feb 28 16:39 part-00017-cd344d94-c5d4-493d-b553-0d14f8b417d6-c000.snappy.parquet\n",
            "-rw-r--r-- 1 root root 8.7M Feb 28 16:39 part-00018-cd344d94-c5d4-493d-b553-0d14f8b417d6-c000.snappy.parquet\n",
            "-rw-r--r-- 1 root root 8.7M Feb 28 16:39 part-00019-cd344d94-c5d4-493d-b553-0d14f8b417d6-c000.snappy.parquet\n",
            "-rw-r--r-- 1 root root 8.7M Feb 28 16:39 part-00020-cd344d94-c5d4-493d-b553-0d14f8b417d6-c000.snappy.parquet\n",
            "-rw-r--r-- 1 root root 8.7M Feb 28 16:39 part-00021-cd344d94-c5d4-493d-b553-0d14f8b417d6-c000.snappy.parquet\n",
            "-rw-r--r-- 1 root root 8.7M Feb 28 16:39 part-00022-cd344d94-c5d4-493d-b553-0d14f8b417d6-c000.snappy.parquet\n",
            "-rw-r--r-- 1 root root 8.7M Feb 28 16:39 part-00023-cd344d94-c5d4-493d-b553-0d14f8b417d6-c000.snappy.parquet\n",
            "-rw-r--r-- 1 root root    0 Feb 28 16:39 _SUCCESS\n"
          ]
        }
      ],
      "source": [
        "!ls -lh fhvhv/2021-02/"
      ]
    },
    {
      "cell_type": "code",
      "execution_count": null,
      "metadata": {
        "colab": {
          "base_uri": "https://localhost:8080/"
        },
        "id": "5437zk5vkvlY",
        "outputId": "6c4d2379-866f-45be-9e89-4c445c11ab31"
      },
      "outputs": [
        {
          "name": "stdout",
          "output_type": "stream",
          "text": [
            "+-----------------+--------------------+-------------------+-------------------+------------+------------+-------+\n",
            "|hvfhs_license_num|dispatching_base_num|    pickup_datetime|   dropoff_datetime|PULocationID|DOLocationID|SR_Flag|\n",
            "+-----------------+--------------------+-------------------+-------------------+------------+------------+-------+\n",
            "|           HV0003|              B02866|2021-02-05 18:53:32|2021-02-05 19:00:26|          91|         155|   null|\n",
            "|           HV0003|              B02876|2021-02-03 20:04:21|2021-02-03 20:19:09|          29|         154|   null|\n",
            "|           HV0003|              B02888|2021-02-04 00:26:03|2021-02-04 00:40:33|         151|         229|   null|\n",
            "|           HV0003|              B02887|2021-02-05 08:21:19|2021-02-05 08:26:49|         215|         215|   null|\n",
            "|           HV0003|              B02764|2021-02-01 21:54:16|2021-02-01 22:09:23|          25|          49|   null|\n",
            "+-----------------+--------------------+-------------------+-------------------+------------+------------+-------+\n",
            "only showing top 5 rows\n",
            "\n"
          ]
        }
      ],
      "source": [
        "dffebp = spark.read.parquet(\"fhvhv/2021-02/\")\n",
        "dffebp.show(5)"
      ]
    },
    {
      "cell_type": "code",
      "execution_count": null,
      "metadata": {
        "colab": {
          "base_uri": "https://localhost:8080/"
        },
        "id": "8k7gGfLIk1Oa",
        "outputId": "49dddfbc-4f05-4807-d7d7-bb896f14b1f5"
      },
      "outputs": [
        {
          "data": {
            "text/plain": [
              "367170"
            ]
          },
          "execution_count": 18,
          "metadata": {},
          "output_type": "execute_result"
        }
      ],
      "source": [
        "dffebp.filter(dffebp.pickup_datetime.like(\"2021-02-15%\")).count()"
      ]
    },
    {
      "cell_type": "code",
      "execution_count": null,
      "metadata": {
        "id": "ksDvVArkk2AL"
      },
      "outputs": [],
      "source": [
        "dffebp.createOrReplaceTempView(\"dffebp\")"
      ]
    },
    {
      "cell_type": "code",
      "execution_count": null,
      "metadata": {
        "colab": {
          "base_uri": "https://localhost:8080/"
        },
        "id": "KNBuRcMwk7IY",
        "outputId": "3c4749b5-817c-40d4-b07a-b9d4d53c981f"
      },
      "outputs": [
        {
          "name": "stdout",
          "output_type": "stream",
          "text": [
            "+-------------------+-------------------+------------------+\n",
            "|    pickup_datetime|   dropoff_datetime|        difference|\n",
            "+-------------------+-------------------+------------------+\n",
            "|2021-02-11 13:40:44|2021-02-12 10:39:44|            1259.0|\n",
            "|2021-02-17 15:54:53|2021-02-18 07:48:34| 953.6833333333333|\n",
            "|2021-02-20 12:08:15|2021-02-21 00:22:14| 733.9833333333333|\n",
            "|2021-02-03 20:24:25|2021-02-04 07:41:58|            677.55|\n",
            "|2021-02-19 23:17:44|2021-02-20 09:44:01| 626.2833333333333|\n",
            "|2021-02-25 17:13:35|2021-02-26 02:57:05|             583.5|\n",
            "|2021-02-20 01:36:13|2021-02-20 11:16:19|             580.1|\n",
            "|2021-02-18 15:24:19|2021-02-19 01:01:11| 576.8666666666667|\n",
            "|2021-02-18 01:31:20|2021-02-18 11:07:15| 575.9166666666666|\n",
            "|2021-02-10 20:51:39|2021-02-11 06:21:08| 569.4833333333333|\n",
            "|2021-02-10 01:56:17|2021-02-10 10:57:33| 541.2666666666667|\n",
            "|2021-02-25 09:18:18|2021-02-25 18:18:57|            540.65|\n",
            "|2021-02-21 19:59:13|2021-02-22 04:56:16|            537.05|\n",
            "|2021-02-09 18:36:13|2021-02-10 03:31:00| 534.7833333333333|\n",
            "|2021-02-06 09:48:09|2021-02-06 18:32:16| 524.1166666666667|\n",
            "|2021-02-02 09:42:30|2021-02-02 18:17:43| 515.2166666666667|\n",
            "|2021-02-10 10:12:08|2021-02-10 18:46:24| 514.2666666666667|\n",
            "|2021-02-09 13:30:13|2021-02-09 22:02:25|             512.2|\n",
            "|2021-02-21 22:50:52|2021-02-22 07:21:52|             511.0|\n",
            "|2021-02-05 21:32:33|2021-02-06 06:01:04|508.51666666666665|\n",
            "+-------------------+-------------------+------------------+\n",
            "only showing top 20 rows\n",
            "\n"
          ]
        }
      ],
      "source": [
        "dffebp = spark.sql(\"\"\"\n",
        "select\n",
        "pickup_datetime,\n",
        "dropoff_datetime,\n",
        "((bigint(to_timestamp(dropoff_datetime)))-(bigint(to_timestamp(pickup_datetime))))/(60) as difference\n",
        "from dffebp\n",
        "order by difference desc\n",
        "\"\"\").show()"
      ]
    },
    {
      "cell_type": "code",
      "execution_count": 22,
      "metadata": {
        "id": "poLPMC-Pmkw3",
        "colab": {
          "base_uri": "https://localhost:8080/"
        },
        "outputId": "ed65e0ad-b492-43ad-8f03-55850bc5dc8d"
      },
      "outputs": [
        {
          "output_type": "stream",
          "name": "stdout",
          "text": [
            "+--------------------+---------------+\n",
            "|dispatching_base_num|frequentbasenum|\n",
            "+--------------------+---------------+\n",
            "|              B02510|        3233664|\n",
            "|              B02764|         965568|\n",
            "|              B02872|         882689|\n",
            "|              B02875|         685390|\n",
            "|              B02765|         559768|\n",
            "|              B02869|         429720|\n",
            "|              B02887|         322331|\n",
            "|              B02871|         312364|\n",
            "|              B02864|         311603|\n",
            "|              B02866|         311089|\n",
            "|              B02878|         305185|\n",
            "|              B02682|         303255|\n",
            "|              B02617|         274510|\n",
            "|              B02883|         251617|\n",
            "|              B02884|         244963|\n",
            "|              B02882|         232173|\n",
            "|              B02876|         215693|\n",
            "|              B02879|         210137|\n",
            "|              B02867|         200530|\n",
            "|              B02877|         198938|\n",
            "+--------------------+---------------+\n",
            "only showing top 20 rows\n",
            "\n"
          ]
        }
      ],
      "source": [
        "dffebp = spark.sql(\"\"\"\n",
        "select\n",
        "dispatching_base_num, count(1) as frequentbasenum\n",
        "from dffebp\n",
        "group by dispatching_base_num\n",
        "order by frequentbasenum desc\n",
        "\"\"\").show()"
      ]
    },
    {
      "cell_type": "code",
      "source": [
        "!wget https://s3.amazonaws.com/nyc-tlc/misc/taxi+_zone_lookup.csv"
      ],
      "metadata": {
        "colab": {
          "base_uri": "https://localhost:8080/"
        },
        "id": "m-mLZO0_d5iG",
        "outputId": "c479d5ee-67bc-4f02-d9ae-5bfcc1fb18b4"
      },
      "execution_count": 23,
      "outputs": [
        {
          "output_type": "stream",
          "name": "stdout",
          "text": [
            "--2022-02-28 18:19:52--  https://s3.amazonaws.com/nyc-tlc/misc/taxi+_zone_lookup.csv\n",
            "Resolving s3.amazonaws.com (s3.amazonaws.com)... 52.217.92.78\n",
            "Connecting to s3.amazonaws.com (s3.amazonaws.com)|52.217.92.78|:443... connected.\n",
            "HTTP request sent, awaiting response... 200 OK\n",
            "Length: 12322 (12K) [application/octet-stream]\n",
            "Saving to: ‘taxi+_zone_lookup.csv’\n",
            "\n",
            "taxi+_zone_lookup.c 100%[===================>]  12.03K  --.-KB/s    in 0s      \n",
            "\n",
            "2022-02-28 18:19:53 (99.7 MB/s) - ‘taxi+_zone_lookup.csv’ saved [12322/12322]\n",
            "\n"
          ]
        }
      ]
    },
    {
      "cell_type": "code",
      "source": [
        "df_zones = spark.read.options(header = True, inferschema = True).csv('taxi+_zone_lookup.csv')"
      ],
      "metadata": {
        "id": "iUTLeTMuj2py"
      },
      "execution_count": 28,
      "outputs": []
    },
    {
      "cell_type": "code",
      "source": [
        "df_zones.printSchema()\n",
        "df_zones.show(5)"
      ],
      "metadata": {
        "colab": {
          "base_uri": "https://localhost:8080/"
        },
        "id": "BUmiQhuRkChh",
        "outputId": "912b15f4-c982-4c62-c676-f79d59c7e615"
      },
      "execution_count": 29,
      "outputs": [
        {
          "output_type": "stream",
          "name": "stdout",
          "text": [
            "root\n",
            " |-- LocationID: integer (nullable = true)\n",
            " |-- Borough: string (nullable = true)\n",
            " |-- Zone: string (nullable = true)\n",
            " |-- service_zone: string (nullable = true)\n",
            "\n",
            "+----------+-------------+--------------------+------------+\n",
            "|LocationID|      Borough|                Zone|service_zone|\n",
            "+----------+-------------+--------------------+------------+\n",
            "|         1|          EWR|      Newark Airport|         EWR|\n",
            "|         2|       Queens|         Jamaica Bay|   Boro Zone|\n",
            "|         3|        Bronx|Allerton/Pelham G...|   Boro Zone|\n",
            "|         4|    Manhattan|       Alphabet City| Yellow Zone|\n",
            "|         5|Staten Island|       Arden Heights|   Boro Zone|\n",
            "+----------+-------------+--------------------+------------+\n",
            "only showing top 5 rows\n",
            "\n"
          ]
        }
      ]
    },
    {
      "cell_type": "code",
      "source": [
        "df_zones.write.parquet('zones/')"
      ],
      "metadata": {
        "id": "pgZOA1OZkGvl"
      },
      "execution_count": 30,
      "outputs": []
    },
    {
      "cell_type": "code",
      "source": [
        "dfzones = spark.read.parquet('zones/')"
      ],
      "metadata": {
        "id": "GtRhiT_Fnsop"
      },
      "execution_count": 31,
      "outputs": []
    },
    {
      "cell_type": "code",
      "source": [
        "dfzones.printSchema()\n",
        "dfzones.show(5)"
      ],
      "metadata": {
        "colab": {
          "base_uri": "https://localhost:8080/"
        },
        "id": "AHrn-VB8n0rJ",
        "outputId": "6c1fbb34-90ef-4ae4-ae08-7befe79df318"
      },
      "execution_count": 32,
      "outputs": [
        {
          "output_type": "stream",
          "name": "stdout",
          "text": [
            "root\n",
            " |-- LocationID: integer (nullable = true)\n",
            " |-- Borough: string (nullable = true)\n",
            " |-- Zone: string (nullable = true)\n",
            " |-- service_zone: string (nullable = true)\n",
            "\n",
            "+----------+-------------+--------------------+------------+\n",
            "|LocationID|      Borough|                Zone|service_zone|\n",
            "+----------+-------------+--------------------+------------+\n",
            "|         1|          EWR|      Newark Airport|         EWR|\n",
            "|         2|       Queens|         Jamaica Bay|   Boro Zone|\n",
            "|         3|        Bronx|Allerton/Pelham G...|   Boro Zone|\n",
            "|         4|    Manhattan|       Alphabet City| Yellow Zone|\n",
            "|         5|Staten Island|       Arden Heights|   Boro Zone|\n",
            "+----------+-------------+--------------------+------------+\n",
            "only showing top 5 rows\n",
            "\n"
          ]
        }
      ]
    },
    {
      "cell_type": "code",
      "source": [
        "dfzones.createOrReplaceTempView(\"dfzones\")"
      ],
      "metadata": {
        "id": "0DoqIkeZn32a"
      },
      "execution_count": 38,
      "outputs": []
    },
    {
      "cell_type": "code",
      "source": [
        "dfresult = spark.sql(\"\"\"\n",
        "select concat(Zone,'/',Zone) as locationpair,\n",
        "count(1) as count\n",
        "from dffebp f\n",
        "inner join dfzones z\n",
        "  on f.PULocationID = z.LocationID and f.DOLocationID = z.LocationID\n",
        "group by Zone\n",
        "order by count desc\n",
        "\"\"\").show()"
      ],
      "metadata": {
        "colab": {
          "base_uri": "https://localhost:8080/"
        },
        "id": "oUGV5yOkoJxC",
        "outputId": "492fc052-c9ce-47ff-d8ef-f92b92b567e5"
      },
      "execution_count": 57,
      "outputs": [
        {
          "output_type": "stream",
          "name": "stdout",
          "text": [
            "+--------------------+-----+\n",
            "|        locationpair|count|\n",
            "+--------------------+-----+\n",
            "|East New York/Eas...|45041|\n",
            "|Borough Park/Boro...|37329|\n",
            "|   Canarsie/Canarsie|28026|\n",
            "|Crown Heights Nor...|25976|\n",
            "| Bay Ridge/Bay Ridge|17934|\n",
            "|     Astoria/Astoria|14688|\n",
            "|Jackson Heights/J...|14688|\n",
            "|Central Harlem No...|14481|\n",
            "|Bushwick South/Bu...|14424|\n",
            "|Flatbush/Ditmas P...|13976|\n",
            "|South Ozone Park/...|13716|\n",
            "|Brownsville/Brown...|12829|\n",
            "|Forest Hills/Fore...|11548|\n",
            "|Prospect-Lefferts...|11308|\n",
            "|     Bedford/Bedford|11021|\n",
            "|Stuyvesant Height...|10675|\n",
            "|   Elmhurst/Elmhurst|10604|\n",
            "|Soundview/Castle ...|10519|\n",
            "|Washington Height...|10165|\n",
            "|Park Slope/Park S...| 9771|\n",
            "+--------------------+-----+\n",
            "only showing top 20 rows\n",
            "\n"
          ]
        }
      ]
    }
  ],
  "metadata": {
    "colab": {
      "collapsed_sections": [],
      "name": "W5_DEZC",
      "provenance": []
    },
    "kernelspec": {
      "display_name": "Python 3",
      "name": "python3"
    },
    "language_info": {
      "name": "python"
    }
  },
  "nbformat": 4,
  "nbformat_minor": 0
}